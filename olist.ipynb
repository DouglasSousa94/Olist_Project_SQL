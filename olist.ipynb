{
 "cells": [
  {
   "attachments": {},
   "cell_type": "markdown",
   "metadata": {},
   "source": [
    "#  Dataset Disponibilizado pela Olist"
   ]
  },
  {
   "cell_type": "code",
   "execution_count": 4,
   "metadata": {},
   "outputs": [],
   "source": [
    "import pandas as pd"
   ]
  },
  {
   "cell_type": "code",
   "execution_count": 3,
   "metadata": {},
   "outputs": [
    {
     "name": "stdout",
     "output_type": "stream",
     "text": [
      "Requirement already satisfied: psycopg2 in c:\\users\\dougl\\infnet-intro\\sql\\olist_project_sql\\olist_project_sql\\lib\\site-packages (2.9.6)\n",
      "Requirement already satisfied: sqlalchemy in c:\\users\\dougl\\infnet-intro\\sql\\olist_project_sql\\olist_project_sql\\lib\\site-packages (2.0.8)\n",
      "Requirement already satisfied: greenlet!=0.4.17 in c:\\users\\dougl\\infnet-intro\\sql\\olist_project_sql\\olist_project_sql\\lib\\site-packages (from sqlalchemy) (2.0.2)\n",
      "Requirement already satisfied: typing-extensions>=4.2.0 in c:\\users\\dougl\\infnet-intro\\sql\\olist_project_sql\\olist_project_sql\\lib\\site-packages (from sqlalchemy) (4.5.0)\n",
      "Requirement already satisfied: pandas in c:\\users\\dougl\\infnet-intro\\sql\\olist_project_sql\\olist_project_sql\\lib\\site-packages (2.0.0)\n",
      "Requirement already satisfied: numpy>=1.20.3 in c:\\users\\dougl\\infnet-intro\\sql\\olist_project_sql\\olist_project_sql\\lib\\site-packages (from pandas) (1.24.2)\n",
      "Requirement already satisfied: python-dateutil>=2.8.2 in c:\\users\\dougl\\infnet-intro\\sql\\olist_project_sql\\olist_project_sql\\lib\\site-packages (from pandas) (2.8.2)\n",
      "Requirement already satisfied: tzdata>=2022.1 in c:\\users\\dougl\\infnet-intro\\sql\\olist_project_sql\\olist_project_sql\\lib\\site-packages (from pandas) (2023.3)\n",
      "Requirement already satisfied: pytz>=2020.1 in c:\\users\\dougl\\infnet-intro\\sql\\olist_project_sql\\olist_project_sql\\lib\\site-packages (from pandas) (2023.3)\n",
      "Requirement already satisfied: six>=1.5 in c:\\users\\dougl\\infnet-intro\\sql\\olist_project_sql\\olist_project_sql\\lib\\site-packages (from python-dateutil>=2.8.2->pandas) (1.16.0)\n",
      "Requirement already satisfied: python-decouple in c:\\users\\dougl\\infnet-intro\\sql\\olist_project_sql\\olist_project_sql\\lib\\site-packages (3.8)\n"
     ]
    }
   ],
   "source": [
    "!pip install psycopg2\n",
    "!pip install sqlalchemy\n",
    "!pip install pandas\n",
    "!pip install python-decouple"
   ]
  },
  {
   "cell_type": "code",
   "execution_count": 5,
   "metadata": {},
   "outputs": [],
   "source": [
    "from sqlalchemy import create_engine\n",
    "from decouple import config\n",
    "\n",
    "HOST     = config('HOST')\n",
    "DATABASE = config('DATABASE')\n",
    "USER     = config('USER')\n",
    "PASSWORD = config('PASSWORD')\n",
    "PORT     = config('PORT')\n",
    "\n",
    "string_conexao = f'postgresql://{USER}:{PASSWORD}@{HOST}:{PORT}/{DATABASE}'\n",
    "conn_olist = create_engine(string_conexao)"
   ]
  },
  {
   "cell_type": "code",
   "execution_count": 6,
   "metadata": {},
   "outputs": [],
   "source": [
    "!pip freeze > requirements.txt"
   ]
  },
  {
   "attachments": {},
   "cell_type": "markdown",
   "metadata": {},
   "source": [
    "#\n",
    "Formas de inserir valores nas tabelas com o Pandas"
   ]
  },
  {
   "cell_type": "code",
   "execution_count": 19,
   "metadata": {},
   "outputs": [
    {
     "data": {
      "text/plain": [
       "441"
      ]
     },
     "execution_count": 19,
     "metadata": {},
     "output_type": "execute_result"
    }
   ],
   "source": [
    "df_customers = pd.read_csv(\"Data/olist_customers_dataset.csv\")\n",
    "df_customers.to_sql(\"customers\", conn_olist, if_exists=\"replace\")"
   ]
  },
  {
   "cell_type": "code",
   "execution_count": 20,
   "metadata": {},
   "outputs": [
    {
     "data": {
      "text/plain": [
       "163"
      ]
     },
     "execution_count": 20,
     "metadata": {},
     "output_type": "execute_result"
    }
   ],
   "source": [
    "df_geolocation = pd.read_csv(\"Data/olist_geolocation_dataset.csv\")\n",
    "df_geolocation.to_sql(\"geolocation\", conn_olist, if_exists=\"replace\")\n"
   ]
  },
  {
   "cell_type": "code",
   "execution_count": 18,
   "metadata": {},
   "outputs": [
    {
     "data": {
      "text/plain": [
       "650"
      ]
     },
     "execution_count": 18,
     "metadata": {},
     "output_type": "execute_result"
    }
   ],
   "source": [
    "df_order_items = pd.read_csv(\"Data/olist_order_items_dataset.csv\")\n",
    "df_order_items.to_sql(\"order_items\", conn_olist, if_exists=\"replace\")"
   ]
  },
  {
   "cell_type": "code",
   "execution_count": 21,
   "metadata": {},
   "outputs": [
    {
     "data": {
      "text/plain": [
       "886"
      ]
     },
     "execution_count": 21,
     "metadata": {},
     "output_type": "execute_result"
    }
   ],
   "source": [
    "df_order_payments = pd.read_csv(\"Data/olist_order_payments_dataset.csv\")\n",
    "df_order_payments.to_sql(\"order_payments\", conn_olist, if_exists=\"replace\")"
   ]
  },
  {
   "cell_type": "code",
   "execution_count": 22,
   "metadata": {},
   "outputs": [
    {
     "data": {
      "text/plain": [
       "224"
      ]
     },
     "execution_count": 22,
     "metadata": {},
     "output_type": "execute_result"
    }
   ],
   "source": [
    "df_order_reviews = pd.read_csv(\"Data/olist_order_reviews_dataset.csv\")\n",
    "df_order_reviews.to_sql(\"order_reviews\", conn_olist, if_exists=\"replace\")"
   ]
  },
  {
   "cell_type": "code",
   "execution_count": 23,
   "metadata": {},
   "outputs": [
    {
     "data": {
      "text/plain": [
       "441"
      ]
     },
     "execution_count": 23,
     "metadata": {},
     "output_type": "execute_result"
    }
   ],
   "source": [
    "df_orders = pd.read_csv(\"Data/olist_orders_dataset.csv\")\n",
    "df_orders.to_sql(\"orders\", conn_olist, if_exists=\"replace\")"
   ]
  },
  {
   "cell_type": "code",
   "execution_count": 24,
   "metadata": {},
   "outputs": [
    {
     "data": {
      "text/plain": [
       "951"
      ]
     },
     "execution_count": 24,
     "metadata": {},
     "output_type": "execute_result"
    }
   ],
   "source": [
    "df_products = pd.read_csv(\"Data/olist_products_dataset.csv\")\n",
    "df_products.to_sql(\"products\", conn_olist, if_exists=\"replace\")"
   ]
  },
  {
   "cell_type": "code",
   "execution_count": 25,
   "metadata": {},
   "outputs": [
    {
     "data": {
      "text/plain": [
       "95"
      ]
     },
     "execution_count": 25,
     "metadata": {},
     "output_type": "execute_result"
    }
   ],
   "source": [
    "df_sellers = pd.read_csv(\"Data/olist_sellers_dataset.csv\")\n",
    "df_sellers.to_sql(\"sellers\", conn_olist, if_exists=\"replace\")"
   ]
  },
  {
   "cell_type": "code",
   "execution_count": 26,
   "metadata": {},
   "outputs": [
    {
     "data": {
      "text/plain": [
       "71"
      ]
     },
     "execution_count": 26,
     "metadata": {},
     "output_type": "execute_result"
    }
   ],
   "source": [
    "df_product_category_name_translation = pd.read_csv(\"Data/product_category_name_translation.csv\")\n",
    "df_product_category_name_translation.to_sql(\"product_category_name_translation\", conn_olist, if_exists=\"replace\")"
   ]
  }
 ],
 "metadata": {
  "kernelspec": {
   "display_name": "base",
   "language": "python",
   "name": "python3"
  },
  "language_info": {
   "codemirror_mode": {
    "name": "ipython",
    "version": 3
   },
   "file_extension": ".py",
   "mimetype": "text/x-python",
   "name": "python",
   "nbconvert_exporter": "python",
   "pygments_lexer": "ipython3",
   "version": "3.9.12"
  },
  "orig_nbformat": 4
 },
 "nbformat": 4,
 "nbformat_minor": 2
}
